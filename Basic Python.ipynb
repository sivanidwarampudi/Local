{
 "cells": [
  {
   "cell_type": "code",
   "execution_count": null,
   "metadata": {},
   "outputs": [],
   "source": [
    " print(\"Dive in\")"
   ]
  },
  {
   "cell_type": "code",
   "execution_count": null,
   "metadata": {},
   "outputs": [],
   "source": [
    "#oop is where the entire code is divided into pieces called objects and this objecgt has data in the form of code or methods it has classes and class has objects they are instantiated\n",
    "#procedural is where the program is broken into parts called procedures they are routines,subroutines and functions less data hiding and it's basically kind of based on unreal world\n",
    "\"#In string\""
   ]
  },
  {
   "cell_type": "code",
   "execution_count": null,
   "metadata": {},
   "outputs": [],
   "source": [
    "#Comment tells how it is going to do\n",
    "#Docstrings describes about code what it is going to do\n",
    "\"\"\"\n",
    "These\n",
    "are the\n",
    "docstrings\n",
    "\"\"\"\n",
    "#If you use docstring with code then they are omitted\n",
    "\n",
    "A=\"Sivani\"\n",
    "X=100\n",
    "print(A,X)"
   ]
  },
  {
   "cell_type": "code",
   "execution_count": null,
   "metadata": {},
   "outputs": [],
   "source": [
    "#Number\n",
    "x=10\n",
    "y=10.0\n",
    "print(x+y)\n",
    "xa=25j\n",
    "print(type(xa))\n",
    "print(10>6)\n",
    "#String\n",
    "x=\"hey\"\n",
    "y=\"sivani\"\n",
    "#z=input()\n",
    "#print(z)\n",
    "print(x,y)\n",
    "length=len(x)\n",
    "x[2]#since index starts from 0 in string\n",
    "#x[2]==\"a\"#Item assignment is not possible in string\n",
    "y[0:2]#Ending index is excluded\n",
    "y.upper()\n",
    "x.lower()\n",
    "y[::-1]\n",
    "y[-1]\n",
    "#List\n",
    "F=[\"a\",1,\"sivani\",\"a\",22,45,\"op\"]\n",
    "F\n",
    "F[1:2]\n",
    "F[2]=\"ABC\"\n",
    "F.append(\"XX\")#Adding at the end of list\n",
    "F.insert(5,\"fff\")#Adding at paricular index\n",
    "F\n",
    "F.reverse()\n",
    "#Dictionary they are unordered no duplicates are entertained\n",
    "food={\n",
    "    1:'order',\n",
    "    'Starter':'Mozarella Stuffed meat balls',\n",
    "    'Maincourse':'Rissoto',\n",
    "    'Dessert':\"Tiramisu\"\n",
    "     }\n",
    "print(food)\n",
    "print(food[1])\n",
    "#food[2] This results as there is no such key\n",
    "print(food['Maincourse'])\n",
    "food['Maincourse']=\"Lasagna\"\n",
    "print(food)\n",
    "print(food.get('Maincourse'))\n",
    "food['beverages']='Double shot espresso'\n",
    "#Tuple no changes are entertained duplicates allowed\n",
    "a=(\"d\",\"b\",\"d\",\"l\")\n",
    "print(a)\n",
    "print(a[0])\n",
    "print(a.count('d'))\n",
    "#print(count(a)) Error this doesn't work\n",
    "#set unordered no dups\n",
    "set={1,2,3,4,2,3,4,5,6,1}\n",
    "print(set)#removes dups\n",
    "#set[0] Does not suppoet indexing\n",
    "#range\n",
    "print(list(range(100)))#n-1 means this prints upto 10\n",
    "#list embeded with set and dict you can do same for dict and set as well \n",
    "l=[\"a\",{2,3,4},{\"ab\":\"k\"}]\n",
    "print(l)"
   ]
  },
  {
   "cell_type": "code",
   "execution_count": null,
   "metadata": {},
   "outputs": [],
   "source": [
    "#Type conversion\n",
    "name=\"sivani\"\n",
    "b=10\n",
    "print(str(b)+name)"
   ]
  },
  {
   "cell_type": "code",
   "execution_count": null,
   "metadata": {},
   "outputs": [],
   "source": [
    "#Collections= Container elements used to store data\n",
    "#They are lists tuples sets directories they are also \"ds\" of python\n",
    "#collections modules\n",
    "import collections \n",
    "from collections import namedtuple\n",
    "#namedtuple = returns a tuple with named value for each element in tuple\n",
    "a=namedtuple('Data','Name,age,profession')\n",
    "b=a('sivani','20','intern')\n",
    "c=a._make(['Siv','20','student'])\n",
    "print(b)\n",
    "print(c)"
   ]
  },
  {
   "cell_type": "code",
   "execution_count": null,
   "metadata": {},
   "outputs": [],
   "source": [
    "from collections import deque\n",
    "#Deque deck is optimised form of list that performs insertion and deletion easily\n",
    "a=['s','i','v','a','n','i','i']\n",
    "b=deque(a)\n",
    "print(b)\n",
    "b.append('!')\n",
    "b.appendleft('!')\n",
    "b.pop()\n",
    "b.popleft()\n",
    "print(b)\n",
    "\n"
   ]
  },
  {
   "cell_type": "code",
   "execution_count": null,
   "metadata": {},
   "outputs": [],
   "source": [
    "#Chainmap is dictionary like class used for creating single view for multiple mappings\n",
    "from collections import ChainMap\n",
    "a={1:\"sivani\",2:\"Reddy\"}\n",
    "b={3:\"sivani\",4:\"Dwarampudi\"}\n",
    "c=ChainMap(a,b)\n",
    "print(c)\n"
   ]
  },
  {
   "cell_type": "code",
   "execution_count": null,
   "metadata": {},
   "outputs": [],
   "source": [
    "#counter = to count hashable objects\n",
    "from collections import Counter\n",
    "a=[1,2,3,3,3,3,31,1,1,2,2,4,4]\n",
    "c=Counter(a)\n",
    "sub={3:1,31:1}\n",
    "print(list(c.elements()))\n",
    "print(c.most_common())\n",
    "print(c.subtract(sub))\n",
    "print(c)#count the no of occurences"
   ]
  },
  {
   "cell_type": "code",
   "execution_count": null,
   "metadata": {},
   "outputs": [],
   "source": [
    "print(\"4\"*7)\n",
    "a=10;b=11;c=12\n",
    "print(a,b,c)\n",
    "for i in \"sivani\":\n",
    "    print(i,end=\"<\\n>\")"
   ]
  },
  {
   "cell_type": "code",
   "execution_count": null,
   "metadata": {},
   "outputs": [],
   "source": [
    "a=str(input())\n",
    "l={'G':'C','C':'G','T':'A','A':'U'}\n",
    "d=[]\n",
    "for i in a:\n",
    "    if i in l:\n",
    "        d.append(l[i])\n",
    "        print(\"\".join(d))\n",
    "    else:\n",
    "        print(\"Invalid Input\")"
   ]
  },
  {
   "cell_type": "code",
   "execution_count": 5,
   "metadata": {},
   "outputs": [
    {
     "name": "stdout",
     "output_type": "stream",
     "text": [
      "1.4142135623730951\n"
     ]
    }
   ],
   "source": [
    "#instead of\n",
    "a=2**(1/2)\n",
    "print(a)"
   ]
  },
  {
   "cell_type": "code",
   "execution_count": null,
   "metadata": {},
   "outputs": [],
   "source": []
  },
  {
   "cell_type": "code",
   "execution_count": null,
   "metadata": {},
   "outputs": [],
   "source": []
  },
  {
   "cell_type": "code",
   "execution_count": null,
   "metadata": {},
   "outputs": [],
   "source": []
  },
  {
   "cell_type": "code",
   "execution_count": null,
   "metadata": {},
   "outputs": [],
   "source": []
  },
  {
   "cell_type": "code",
   "execution_count": null,
   "metadata": {},
   "outputs": [],
   "source": []
  }
 ],
 "metadata": {
  "kernelspec": {
   "display_name": "Python 3",
   "language": "python",
   "name": "python3"
  },
  "language_info": {
   "codemirror_mode": {
    "name": "ipython",
    "version": 3
   },
   "file_extension": ".py",
   "mimetype": "text/x-python",
   "name": "python",
   "nbconvert_exporter": "python",
   "pygments_lexer": "ipython3",
   "version": "3.8.5"
  }
 },
 "nbformat": 4,
 "nbformat_minor": 4
}
