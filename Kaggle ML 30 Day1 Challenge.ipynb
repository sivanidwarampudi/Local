{
 "cells": [
  {
   "cell_type": "code",
   "execution_count": 4,
   "metadata": {},
   "outputs": [
    {
     "name": "stdout",
     "output_type": "stream",
     "text": [
      "7\n",
      "YOU GOT SOME VALUE\n",
      "Okay!\n",
      "Okay!\n",
      "Okay!\n",
      "Okay!\n",
      "Okay!\n",
      "Okay!\n",
      "Okay!\n",
      "\n",
      "<class 'str'>\n"
     ]
    }
   ],
   "source": [
    "a=0 #assignment variable where value is assigned, = indicates assignment, == indicates checking true or not\n",
    "#Python doesn't need data type to be declared before assignment it can dynamically allocate data type for the the variable declared\n",
    "a=a+7 #reassigning value\n",
    "print(a)\n",
    "if(a>0):\n",
    "    print(\"YOU GOT SOME VALUE\")\n",
    "x=\"Okay!\\n\"*a #Okay gets printed a times. This part is not indented with if block \n",
    "print(x)\n",
    "print(type(x))#Returns type of x"
   ]
  },
  {
   "cell_type": "code",
   "execution_count": 6,
   "metadata": {},
   "outputs": [
    {
     "name": "stdout",
     "output_type": "stream",
     "text": [
      "0.22727272727272727\n",
      "2500\n",
      "333\n"
     ]
    }
   ],
   "source": [
    "print(10/44)# returns quotient\n",
    "print(10000//4) #returns integer value\n",
    "print(int(1000/3))"
   ]
  },
  {
   "cell_type": "code",
   "execution_count": 8,
   "metadata": {},
   "outputs": [
    {
     "name": "stdout",
     "output_type": "stream",
     "text": [
      "7 10\n"
     ]
    }
   ],
   "source": [
    "#PEMDAS rule Parenthesis, Exponents, Multiplication/Division(FCFS), Addition/Subtraction\n",
    "a=8-4+3\n",
    "b=8+3-1\n",
    "print(a,b)"
   ]
  },
  {
   "cell_type": "code",
   "execution_count": 11,
   "metadata": {},
   "outputs": [
    {
     "name": "stdout",
     "output_type": "stream",
     "text": [
      "1\n",
      "666\n",
      "999\n",
      "99.99\n"
     ]
    }
   ],
   "source": [
    "print(min(4,2,1,4,5,666))\n",
    "print(max(4,2,1,4,5,666))\n",
    "print(abs(-999))\n",
    "print(abs(99.99))"
   ]
  },
  {
   "cell_type": "code",
   "execution_count": 1,
   "metadata": {},
   "outputs": [
    {
     "name": "stdout",
     "output_type": "stream",
     "text": [
      "124\n"
     ]
    }
   ],
   "source": [
    "print(int('123')+1) #The int over there converts string 123 to integer 123"
   ]
  }
 ],
 "metadata": {
  "kernelspec": {
   "display_name": "Python 3",
   "language": "python",
   "name": "python3"
  },
  "language_info": {
   "codemirror_mode": {
    "name": "ipython",
    "version": 3
   },
   "file_extension": ".py",
   "mimetype": "text/x-python",
   "name": "python",
   "nbconvert_exporter": "python",
   "pygments_lexer": "ipython3",
   "version": "3.8.5"
  }
 },
 "nbformat": 4,
 "nbformat_minor": 4
}
